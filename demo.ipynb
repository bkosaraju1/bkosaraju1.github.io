import pandas as pd
import matplotlib.pyplot as plt
import bqplot
import numpy as np
import plotly.express as px
df1=pd.read_csv("country_wise_latest.csv")
df2=pd.read_csv("full_grouped.csv")
df3=pd.read_csv("covid_19_clean_complete.csv")
df4=pd.read_csv("usa_county_wise.csv")
df3['Province/State'] = df3['Province/State'].fillna('NA')
df4['Admin2'] = df4['Admin2'].fillna('NA')
df4['FIPS'] = df4['FIPS'].fillna(0)
