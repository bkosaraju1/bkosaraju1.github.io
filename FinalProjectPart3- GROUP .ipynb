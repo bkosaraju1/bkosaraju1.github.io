{
 "cells": [
  {
   "cell_type": "markdown",
   "id": "c558c841",
   "metadata": {},
   "source": [
    "# Graph Descriptions:\n",
    "\n",
    "Team Members: Bhavya Kosaraju, Rishitha Nuka, Aditya Misra"
   ]
  },
  {
   "cell_type": "markdown",
   "id": "aab6d89c",
   "metadata": {},
   "source": [
    "\n",
    "\n",
    "In the 1st graph, we see a comparison between the number of new cases vs number of new deaths over a period of time. Through the graph we can infer that the no of cases has been increasing exponentially while there has hardly been any changes in the no of deaths. Also, when we compare the both, no of deaths is almost negligible against the no of cases. This implies that either the COVID variant isn't as strong/deadly or with time there is mass immunity amongst people that might be due to vaccinations.\n",
    "\n",
    "The second graph shows confirmed cases against WHO regions, thus making it more concise and clear to understand. We can see that when we hover over the bars it shows cases for different countries in each WHO region through the whole bar , however we can find the total no of cases in the whole WHO region via the y-axis. Through the graph we can see that the maximum cases were in Americas WHO region followed by Europe and then South-East Asia.\n",
    "\n",
    "In the 3rd graph, we have a pie chart showing the new cases percentage in each WHO region, and its clear from the graph that the highest is in Americas with 56.9% followed by Europe with 26.8% and so on. All these graphs help us understand the COVID scenario in different countries and regions.\n",
    "\n",
    "A dataset that can help with part 3 of the project to talk more about the Covid 19 Analysis is the Covid 19 vaccination vs mortality dataset. We found this vaacine dataset on Kaggle. Link:https://www.kaggle.com/datasets/sinakaraji/covid-vaccination-vs-death. This dataset includes Total vaccinations administered, people fully vaccinated, new deaths,population, ratio, the country and iso code. With this data we can see the rate of vaccinations in a sample population,and the dates various countries  got vaccinated.\n",
    "\n",
    "Team member Aditya created the fist visualization which compares the new deaths to new cases due to COVID19. This graph clearly indicates that the number of new deaths due to covid19 have reduced. Rishitha created the 2nd visualization. Initially, she tried plotting Country column on the X-axis but the number of countries were too large and graph was hard to read even after adjusting the figure size and X-axis. She then modified the 2nd visualization, which shows the number of cases in every WHO region which is more clear to understand. Bhavya created the 3rd visualization which is a pie chart that depicts new cases per WHO region. We can clearly see that maximum number of new cases are in Americas through this graph.\n",
    "\n",
    "I (Team member Bhavya Kosaraju) was able to learn more about interactivity between plots and the limitations of a few packages.Our team attempted to generate a heatmap using bqplot but quickly realized that our dataset was not feasible fot it. I next looked into plotly and collaborated with my teammates to create an interactive dashboard using plotly.  Rishitha Nuka, a team member, taught me more about dashboard creation and fitting in all the elements as part of a dash app , and Aditya Misra a team member, taught me more about identifcation of the correct columns for the graphs.\n",
    "\n",
    "For Part 3 of our final project, we will be using MyBinder to host our jupyter notebook. We will be creating a visualization to show the vaccination data of different countries with an interactive slider. . We will also be creating a visualization to see if countries with more vaccinated people have less deaths due to covid 19 or not.\n",
    "\n",
    "Team Members Aditya and Bhavya will work on making the visualizations interactive by adding slider interactivity and a multiple line chart. Team Member Rishitha will work on trying to join the Covid 19 data with the Vaccination data and come up with another visualization which will show the how effective are the vaccines to prevent covid19.\n",
    "\n",
    "\n",
    "\n",
    "Source: https://www.kaggle.com/code/robbyboparai/covid-19-world-visualization\n"
   ]
  },
  {
   "cell_type": "code",
   "execution_count": 1,
   "id": "3d8fc846",
   "metadata": {},
   "outputs": [
    {
     "name": "stdout",
     "output_type": "stream",
     "text": [
      "Requirement already satisfied: cycler==0.10.0 in c:\\users\\bhavya kosaraju\\anaconda3\\envs\\dataviz\\lib\\site-packages (from -r requirements.txt (line 7)) (0.10.0)\n",
      "Requirement already satisfied: kiwisolver==1.2.0 in c:\\users\\bhavya kosaraju\\anaconda3\\envs\\dataviz\\lib\\site-packages (from -r requirements.txt (line 8)) (1.2.0)\n",
      "Requirement already satisfied: matplotlib==3.2.1 in c:\\users\\bhavya kosaraju\\anaconda3\\envs\\dataviz\\lib\\site-packages (from -r requirements.txt (line 9)) (3.2.1)\n",
      "Requirement already satisfied: numpy==1.18.5 in c:\\users\\bhavya kosaraju\\anaconda3\\envs\\dataviz\\lib\\site-packages (from -r requirements.txt (line 10)) (1.18.5)\n",
      "Requirement already satisfied: pandas==1.0.4 in c:\\users\\bhavya kosaraju\\anaconda3\\envs\\dataviz\\lib\\site-packages (from -r requirements.txt (line 11)) (1.0.4)\n",
      "Requirement already satisfied: plotly==5.4.0 in c:\\users\\bhavya kosaraju\\anaconda3\\envs\\dataviz\\lib\\site-packages (from -r requirements.txt (line 12)) (5.4.0)\n",
      "Requirement already satisfied: pyparsing==2.4.7 in c:\\users\\bhavya kosaraju\\anaconda3\\envs\\dataviz\\lib\\site-packages (from -r requirements.txt (line 13)) (2.4.7)\n",
      "Requirement already satisfied: python-dateutil==2.8.1 in c:\\users\\bhavya kosaraju\\anaconda3\\envs\\dataviz\\lib\\site-packages (from -r requirements.txt (line 14)) (2.8.1)\n",
      "Requirement already satisfied: bqplot==0.12.30 in c:\\users\\bhavya kosaraju\\anaconda3\\envs\\dataviz\\lib\\site-packages (from -r requirements.txt (line 15)) (0.12.30)\n",
      "Requirement already satisfied: ipywidgets in c:\\users\\bhavya kosaraju\\anaconda3\\envs\\dataviz\\lib\\site-packages (from -r requirements.txt (line 16)) (7.6.5)\n",
      "Requirement already satisfied: contextily in c:\\users\\bhavya kosaraju\\anaconda3\\envs\\dataviz\\lib\\site-packages (from -r requirements.txt (line 17)) (1.2.0)\n",
      "Requirement already satisfied: seaborn in c:\\users\\bhavya kosaraju\\anaconda3\\envs\\dataviz\\lib\\site-packages (from -r requirements.txt (line 18)) (0.11.2)\n",
      "Requirement already satisfied: Ipython in c:\\users\\bhavya kosaraju\\anaconda3\\envs\\dataviz\\lib\\site-packages (from -r requirements.txt (line 19)) (8.0.1)\n",
      "Requirement already satisfied: six in c:\\users\\bhavya kosaraju\\anaconda3\\envs\\dataviz\\lib\\site-packages (from cycler==0.10.0->-r requirements.txt (line 7)) (1.16.0)\n",
      "Requirement already satisfied: pytz>=2017.2 in c:\\users\\bhavya kosaraju\\anaconda3\\envs\\dataviz\\lib\\site-packages (from pandas==1.0.4->-r requirements.txt (line 11)) (2021.3)\n",
      "Requirement already satisfied: tenacity>=6.2.0 in c:\\users\\bhavya kosaraju\\anaconda3\\envs\\dataviz\\lib\\site-packages (from plotly==5.4.0->-r requirements.txt (line 12)) (8.0.1)\n",
      "Requirement already satisfied: traittypes>=0.0.6 in c:\\users\\bhavya kosaraju\\anaconda3\\envs\\dataviz\\lib\\site-packages (from bqplot==0.12.30->-r requirements.txt (line 15)) (0.2.1)\n",
      "Requirement already satisfied: traitlets>=4.3.0 in c:\\users\\bhavya kosaraju\\anaconda3\\envs\\dataviz\\lib\\site-packages (from bqplot==0.12.30->-r requirements.txt (line 15)) (5.1.1)\n",
      "Requirement already satisfied: nbformat>=4.2.0 in c:\\users\\bhavya kosaraju\\anaconda3\\envs\\dataviz\\lib\\site-packages (from ipywidgets->-r requirements.txt (line 16)) (5.1.3)\n",
      "Requirement already satisfied: ipykernel>=4.5.1 in c:\\users\\bhavya kosaraju\\anaconda3\\envs\\dataviz\\lib\\site-packages (from ipywidgets->-r requirements.txt (line 16)) (6.7.0)\n",
      "Requirement already satisfied: ipython-genutils~=0.2.0 in c:\\users\\bhavya kosaraju\\anaconda3\\envs\\dataviz\\lib\\site-packages (from ipywidgets->-r requirements.txt (line 16)) (0.2.0)\n",
      "Requirement already satisfied: widgetsnbextension~=3.5.0 in c:\\users\\bhavya kosaraju\\anaconda3\\envs\\dataviz\\lib\\site-packages (from ipywidgets->-r requirements.txt (line 16)) (3.5.2)\n",
      "Requirement already satisfied: jupyterlab-widgets>=1.0.0 in c:\\users\\bhavya kosaraju\\anaconda3\\envs\\dataviz\\lib\\site-packages (from ipywidgets->-r requirements.txt (line 16)) (1.0.2)\n",
      "Requirement already satisfied: geopy in c:\\users\\bhavya kosaraju\\anaconda3\\envs\\dataviz\\lib\\site-packages (from contextily->-r requirements.txt (line 17)) (2.2.0)\n",
      "Requirement already satisfied: rasterio in c:\\users\\bhavya kosaraju\\anaconda3\\envs\\dataviz\\lib\\site-packages (from contextily->-r requirements.txt (line 17)) (1.2.8)\n",
      "Requirement already satisfied: xyzservices in c:\\users\\bhavya kosaraju\\anaconda3\\envs\\dataviz\\lib\\site-packages (from contextily->-r requirements.txt (line 17)) (2022.1.1)\n",
      "Requirement already satisfied: mercantile in c:\\users\\bhavya kosaraju\\anaconda3\\envs\\dataviz\\lib\\site-packages (from contextily->-r requirements.txt (line 17)) (1.2.1)\n",
      "Requirement already satisfied: requests in c:\\users\\bhavya kosaraju\\anaconda3\\envs\\dataviz\\lib\\site-packages (from contextily->-r requirements.txt (line 17)) (2.27.1)\n",
      "Requirement already satisfied: pillow in c:\\users\\bhavya kosaraju\\anaconda3\\envs\\dataviz\\lib\\site-packages (from contextily->-r requirements.txt (line 17)) (8.4.0)\n",
      "Requirement already satisfied: joblib in c:\\users\\bhavya kosaraju\\anaconda3\\envs\\dataviz\\lib\\site-packages (from contextily->-r requirements.txt (line 17)) (1.1.0)\n",
      "Requirement already satisfied: scipy>=1.0 in c:\\users\\bhavya kosaraju\\anaconda3\\envs\\dataviz\\lib\\site-packages (from seaborn->-r requirements.txt (line 18)) (1.7.3)\n",
      "Requirement already satisfied: stack-data in c:\\users\\bhavya kosaraju\\anaconda3\\envs\\dataviz\\lib\\site-packages (from Ipython->-r requirements.txt (line 19)) (0.1.4)\n",
      "Requirement already satisfied: decorator in c:\\users\\bhavya kosaraju\\anaconda3\\envs\\dataviz\\lib\\site-packages (from Ipython->-r requirements.txt (line 19)) (5.1.1)\n",
      "Requirement already satisfied: setuptools>=18.5 in c:\\users\\bhavya kosaraju\\anaconda3\\envs\\dataviz\\lib\\site-packages (from Ipython->-r requirements.txt (line 19)) (60.5.0)\n",
      "Requirement already satisfied: jedi>=0.16 in c:\\users\\bhavya kosaraju\\anaconda3\\envs\\dataviz\\lib\\site-packages (from Ipython->-r requirements.txt (line 19)) (0.18.1)\n",
      "Requirement already satisfied: matplotlib-inline in c:\\users\\bhavya kosaraju\\anaconda3\\envs\\dataviz\\lib\\site-packages (from Ipython->-r requirements.txt (line 19)) (0.1.3)\n",
      "Requirement already satisfied: pickleshare in c:\\users\\bhavya kosaraju\\anaconda3\\envs\\dataviz\\lib\\site-packages (from Ipython->-r requirements.txt (line 19)) (0.7.5)\n",
      "Requirement already satisfied: prompt-toolkit!=3.0.0,!=3.0.1,<3.1.0,>=2.0.0 in c:\\users\\bhavya kosaraju\\anaconda3\\envs\\dataviz\\lib\\site-packages (from Ipython->-r requirements.txt (line 19)) (3.0.26)\n",
      "Requirement already satisfied: colorama in c:\\users\\bhavya kosaraju\\anaconda3\\envs\\dataviz\\lib\\site-packages (from Ipython->-r requirements.txt (line 19)) (0.4.4)\n",
      "Requirement already satisfied: backcall in c:\\users\\bhavya kosaraju\\anaconda3\\envs\\dataviz\\lib\\site-packages (from Ipython->-r requirements.txt (line 19)) (0.2.0)\n",
      "Requirement already satisfied: black in c:\\users\\bhavya kosaraju\\anaconda3\\envs\\dataviz\\lib\\site-packages (from Ipython->-r requirements.txt (line 19)) (21.12b0)\n",
      "Requirement already satisfied: pygments in c:\\users\\bhavya kosaraju\\anaconda3\\envs\\dataviz\\lib\\site-packages (from Ipython->-r requirements.txt (line 19)) (2.11.2)\n",
      "Requirement already satisfied: jupyter-client<8.0 in c:\\users\\bhavya kosaraju\\anaconda3\\envs\\dataviz\\lib\\site-packages (from ipykernel>=4.5.1->ipywidgets->-r requirements.txt (line 16)) (7.1.2)\n",
      "Requirement already satisfied: tornado<7.0,>=4.2 in c:\\users\\bhavya kosaraju\\anaconda3\\envs\\dataviz\\lib\\site-packages (from ipykernel>=4.5.1->ipywidgets->-r requirements.txt (line 16)) (6.1)\n",
      "Requirement already satisfied: debugpy<2.0,>=1.0.0 in c:\\users\\bhavya kosaraju\\anaconda3\\envs\\dataviz\\lib\\site-packages (from ipykernel>=4.5.1->ipywidgets->-r requirements.txt (line 16)) (1.5.1)\n",
      "Requirement already satisfied: nest-asyncio in c:\\users\\bhavya kosaraju\\anaconda3\\envs\\dataviz\\lib\\site-packages (from ipykernel>=4.5.1->ipywidgets->-r requirements.txt (line 16)) (1.5.4)\n",
      "Requirement already satisfied: parso<0.9.0,>=0.8.0 in c:\\users\\bhavya kosaraju\\anaconda3\\envs\\dataviz\\lib\\site-packages (from jedi>=0.16->Ipython->-r requirements.txt (line 19)) (0.8.3)\n",
      "Requirement already satisfied: jupyter-core in c:\\users\\bhavya kosaraju\\anaconda3\\envs\\dataviz\\lib\\site-packages (from nbformat>=4.2.0->ipywidgets->-r requirements.txt (line 16)) (4.9.1)\n",
      "Requirement already satisfied: jsonschema!=2.5.0,>=2.4 in c:\\users\\bhavya kosaraju\\anaconda3\\envs\\dataviz\\lib\\site-packages (from nbformat>=4.2.0->ipywidgets->-r requirements.txt (line 16)) (4.4.0)\n",
      "Requirement already satisfied: wcwidth in c:\\users\\bhavya kosaraju\\anaconda3\\envs\\dataviz\\lib\\site-packages (from prompt-toolkit!=3.0.0,!=3.0.1,<3.1.0,>=2.0.0->Ipython->-r requirements.txt (line 19)) (0.2.5)\n",
      "Requirement already satisfied: notebook>=4.4.1 in c:\\users\\bhavya kosaraju\\anaconda3\\envs\\dataviz\\lib\\site-packages (from widgetsnbextension~=3.5.0->ipywidgets->-r requirements.txt (line 16)) (6.4.8)\n",
      "Requirement already satisfied: pathspec<1,>=0.9.0 in c:\\users\\bhavya kosaraju\\anaconda3\\envs\\dataviz\\lib\\site-packages (from black->Ipython->-r requirements.txt (line 19)) (0.9.0)\n",
      "Requirement already satisfied: platformdirs>=2 in c:\\users\\bhavya kosaraju\\anaconda3\\envs\\dataviz\\lib\\site-packages (from black->Ipython->-r requirements.txt (line 19)) (2.3.0)\n",
      "Requirement already satisfied: click>=7.1.2 in c:\\users\\bhavya kosaraju\\anaconda3\\envs\\dataviz\\lib\\site-packages (from black->Ipython->-r requirements.txt (line 19)) (8.1.2)\n",
      "Requirement already satisfied: typing-extensions>=3.10.0.0 in c:\\users\\bhavya kosaraju\\anaconda3\\envs\\dataviz\\lib\\site-packages (from black->Ipython->-r requirements.txt (line 19)) (4.0.1)\n",
      "Requirement already satisfied: mypy-extensions>=0.4.3 in c:\\users\\bhavya kosaraju\\anaconda3\\envs\\dataviz\\lib\\site-packages (from black->Ipython->-r requirements.txt (line 19)) (0.4.3)\n",
      "Requirement already satisfied: tomli<2.0.0,>=0.2.6 in c:\\users\\bhavya kosaraju\\anaconda3\\envs\\dataviz\\lib\\site-packages (from black->Ipython->-r requirements.txt (line 19)) (1.2.2)\n",
      "Requirement already satisfied: geographiclib<2,>=1.49 in c:\\users\\bhavya kosaraju\\anaconda3\\envs\\dataviz\\lib\\site-packages (from geopy->contextily->-r requirements.txt (line 17)) (1.52)\n",
      "Requirement already satisfied: affine in c:\\users\\bhavya kosaraju\\anaconda3\\envs\\dataviz\\lib\\site-packages (from rasterio->contextily->-r requirements.txt (line 17)) (2.3.0)\n",
      "Requirement already satisfied: attrs in c:\\users\\bhavya kosaraju\\anaconda3\\envs\\dataviz\\lib\\site-packages (from rasterio->contextily->-r requirements.txt (line 17)) (21.4.0)\n",
      "Requirement already satisfied: certifi in c:\\users\\bhavya kosaraju\\anaconda3\\envs\\dataviz\\lib\\site-packages (from rasterio->contextily->-r requirements.txt (line 17)) (2021.10.8)\n",
      "Requirement already satisfied: cligj>=0.5 in c:\\users\\bhavya kosaraju\\anaconda3\\envs\\dataviz\\lib\\site-packages (from rasterio->contextily->-r requirements.txt (line 17)) (0.7.2)\n",
      "Requirement already satisfied: snuggs>=1.4.1 in c:\\users\\bhavya kosaraju\\anaconda3\\envs\\dataviz\\lib\\site-packages (from rasterio->contextily->-r requirements.txt (line 17)) (1.4.7)\n",
      "Requirement already satisfied: click-plugins in c:\\users\\bhavya kosaraju\\anaconda3\\envs\\dataviz\\lib\\site-packages (from rasterio->contextily->-r requirements.txt (line 17)) (1.1.1)\n",
      "Requirement already satisfied: idna<4,>=2.5 in c:\\users\\bhavya kosaraju\\anaconda3\\envs\\dataviz\\lib\\site-packages (from requests->contextily->-r requirements.txt (line 17)) (3.3)\n",
      "Requirement already satisfied: urllib3<1.27,>=1.21.1 in c:\\users\\bhavya kosaraju\\anaconda3\\envs\\dataviz\\lib\\site-packages (from requests->contextily->-r requirements.txt (line 17)) (1.26.8)\n",
      "Requirement already satisfied: charset-normalizer~=2.0.0 in c:\\users\\bhavya kosaraju\\anaconda3\\envs\\dataviz\\lib\\site-packages (from requests->contextily->-r requirements.txt (line 17)) (2.0.10)\n",
      "Requirement already satisfied: asttokens in c:\\users\\bhavya kosaraju\\anaconda3\\envs\\dataviz\\lib\\site-packages (from stack-data->Ipython->-r requirements.txt (line 19)) (2.0.5)\n",
      "Requirement already satisfied: pure-eval in c:\\users\\bhavya kosaraju\\anaconda3\\envs\\dataviz\\lib\\site-packages (from stack-data->Ipython->-r requirements.txt (line 19)) (0.2.2)\n",
      "Requirement already satisfied: executing in c:\\users\\bhavya kosaraju\\anaconda3\\envs\\dataviz\\lib\\site-packages (from stack-data->Ipython->-r requirements.txt (line 19)) (0.8.2)\n",
      "Requirement already satisfied: importlib-resources>=1.4.0 in c:\\users\\bhavya kosaraju\\anaconda3\\envs\\dataviz\\lib\\site-packages (from jsonschema!=2.5.0,>=2.4->nbformat>=4.2.0->ipywidgets->-r requirements.txt (line 16)) (5.4.0)\n",
      "Requirement already satisfied: pyrsistent!=0.17.0,!=0.17.1,!=0.17.2,>=0.14.0 in c:\\users\\bhavya kosaraju\\anaconda3\\envs\\dataviz\\lib\\site-packages (from jsonschema!=2.5.0,>=2.4->nbformat>=4.2.0->ipywidgets->-r requirements.txt (line 16)) (0.18.1)\n",
      "Requirement already satisfied: pyzmq>=13 in c:\\users\\bhavya kosaraju\\anaconda3\\envs\\dataviz\\lib\\site-packages (from jupyter-client<8.0->ipykernel>=4.5.1->ipywidgets->-r requirements.txt (line 16)) (22.3.0)\n",
      "Requirement already satisfied: entrypoints in c:\\users\\bhavya kosaraju\\anaconda3\\envs\\dataviz\\lib\\site-packages (from jupyter-client<8.0->ipykernel>=4.5.1->ipywidgets->-r requirements.txt (line 16)) (0.3)\n",
      "Requirement already satisfied: pywin32>=1.0 in c:\\users\\bhavya kosaraju\\anaconda3\\envs\\dataviz\\lib\\site-packages (from jupyter-core->nbformat>=4.2.0->ipywidgets->-r requirements.txt (line 16)) (303)\n",
      "Requirement already satisfied: jinja2 in c:\\users\\bhavya kosaraju\\anaconda3\\envs\\dataviz\\lib\\site-packages (from notebook>=4.4.1->widgetsnbextension~=3.5.0->ipywidgets->-r requirements.txt (line 16)) (3.0.3)\n",
      "Requirement already satisfied: terminado>=0.8.3 in c:\\users\\bhavya kosaraju\\anaconda3\\envs\\dataviz\\lib\\site-packages (from notebook>=4.4.1->widgetsnbextension~=3.5.0->ipywidgets->-r requirements.txt (line 16)) (0.13.1)\n",
      "Requirement already satisfied: argon2-cffi in c:\\users\\bhavya kosaraju\\anaconda3\\envs\\dataviz\\lib\\site-packages (from notebook>=4.4.1->widgetsnbextension~=3.5.0->ipywidgets->-r requirements.txt (line 16)) (21.3.0)\n",
      "Requirement already satisfied: Send2Trash>=1.8.0 in c:\\users\\bhavya kosaraju\\anaconda3\\envs\\dataviz\\lib\\site-packages (from notebook>=4.4.1->widgetsnbextension~=3.5.0->ipywidgets->-r requirements.txt (line 16)) (1.8.0)\n",
      "Requirement already satisfied: nbconvert in c:\\users\\bhavya kosaraju\\anaconda3\\envs\\dataviz\\lib\\site-packages (from notebook>=4.4.1->widgetsnbextension~=3.5.0->ipywidgets->-r requirements.txt (line 16)) (6.4.1)\n",
      "Requirement already satisfied: prometheus-client in c:\\users\\bhavya kosaraju\\anaconda3\\envs\\dataviz\\lib\\site-packages (from notebook>=4.4.1->widgetsnbextension~=3.5.0->ipywidgets->-r requirements.txt (line 16)) (0.13.1)\n",
      "Requirement already satisfied: zipp>=3.1.0 in c:\\users\\bhavya kosaraju\\anaconda3\\envs\\dataviz\\lib\\site-packages (from importlib-resources>=1.4.0->jsonschema!=2.5.0,>=2.4->nbformat>=4.2.0->ipywidgets->-r requirements.txt (line 16)) (3.7.0)\n",
      "Requirement already satisfied: pywinpty>=1.1.0 in c:\\users\\bhavya kosaraju\\anaconda3\\envs\\dataviz\\lib\\site-packages (from terminado>=0.8.3->notebook>=4.4.1->widgetsnbextension~=3.5.0->ipywidgets->-r requirements.txt (line 16)) (2.0.1)\n",
      "Requirement already satisfied: argon2-cffi-bindings in c:\\users\\bhavya kosaraju\\anaconda3\\envs\\dataviz\\lib\\site-packages (from argon2-cffi->notebook>=4.4.1->widgetsnbextension~=3.5.0->ipywidgets->-r requirements.txt (line 16)) (21.2.0)\n",
      "Requirement already satisfied: MarkupSafe>=2.0 in c:\\users\\bhavya kosaraju\\anaconda3\\envs\\dataviz\\lib\\site-packages (from jinja2->notebook>=4.4.1->widgetsnbextension~=3.5.0->ipywidgets->-r requirements.txt (line 16)) (2.0.1)\n",
      "Requirement already satisfied: mistune<2,>=0.8.1 in c:\\users\\bhavya kosaraju\\anaconda3\\envs\\dataviz\\lib\\site-packages (from nbconvert->notebook>=4.4.1->widgetsnbextension~=3.5.0->ipywidgets->-r requirements.txt (line 16)) (0.8.4)\n",
      "Requirement already satisfied: pandocfilters>=1.4.1 in c:\\users\\bhavya kosaraju\\anaconda3\\envs\\dataviz\\lib\\site-packages (from nbconvert->notebook>=4.4.1->widgetsnbextension~=3.5.0->ipywidgets->-r requirements.txt (line 16)) (1.5.0)\n",
      "Requirement already satisfied: testpath in c:\\users\\bhavya kosaraju\\anaconda3\\envs\\dataviz\\lib\\site-packages (from nbconvert->notebook>=4.4.1->widgetsnbextension~=3.5.0->ipywidgets->-r requirements.txt (line 16)) (0.5.0)\n",
      "Requirement already satisfied: bleach in c:\\users\\bhavya kosaraju\\anaconda3\\envs\\dataviz\\lib\\site-packages (from nbconvert->notebook>=4.4.1->widgetsnbextension~=3.5.0->ipywidgets->-r requirements.txt (line 16)) (4.1.0)\n",
      "Requirement already satisfied: nbclient<0.6.0,>=0.5.0 in c:\\users\\bhavya kosaraju\\anaconda3\\envs\\dataviz\\lib\\site-packages (from nbconvert->notebook>=4.4.1->widgetsnbextension~=3.5.0->ipywidgets->-r requirements.txt (line 16)) (0.5.10)\n",
      "Requirement already satisfied: jupyterlab-pygments in c:\\users\\bhavya kosaraju\\anaconda3\\envs\\dataviz\\lib\\site-packages (from nbconvert->notebook>=4.4.1->widgetsnbextension~=3.5.0->ipywidgets->-r requirements.txt (line 16)) (0.1.2)\n",
      "Requirement already satisfied: defusedxml in c:\\users\\bhavya kosaraju\\anaconda3\\envs\\dataviz\\lib\\site-packages (from nbconvert->notebook>=4.4.1->widgetsnbextension~=3.5.0->ipywidgets->-r requirements.txt (line 16)) (0.7.1)\n",
      "Requirement already satisfied: cffi>=1.0.1 in c:\\users\\bhavya kosaraju\\anaconda3\\envs\\dataviz\\lib\\site-packages (from argon2-cffi-bindings->argon2-cffi->notebook>=4.4.1->widgetsnbextension~=3.5.0->ipywidgets->-r requirements.txt (line 16)) (1.15.0)\n",
      "Requirement already satisfied: packaging in c:\\users\\bhavya kosaraju\\anaconda3\\envs\\dataviz\\lib\\site-packages (from bleach->nbconvert->notebook>=4.4.1->widgetsnbextension~=3.5.0->ipywidgets->-r requirements.txt (line 16)) (21.3)\n",
      "Requirement already satisfied: webencodings in c:\\users\\bhavya kosaraju\\anaconda3\\envs\\dataviz\\lib\\site-packages (from bleach->nbconvert->notebook>=4.4.1->widgetsnbextension~=3.5.0->ipywidgets->-r requirements.txt (line 16)) (0.5.1)\n",
      "Requirement already satisfied: pycparser in c:\\users\\bhavya kosaraju\\anaconda3\\envs\\dataviz\\lib\\site-packages (from cffi>=1.0.1->argon2-cffi-bindings->argon2-cffi->notebook>=4.4.1->widgetsnbextension~=3.5.0->ipywidgets->-r requirements.txt (line 16)) (2.21)\n",
      "Note: you may need to restart the kernel to use updated packages.\n"
     ]
    }
   ],
   "source": [
    "pip install -r requirements.txt"
   ]
  },
  {
   "cell_type": "code",
   "execution_count": 2,
   "id": "6e80e7e3",
   "metadata": {},
   "outputs": [],
   "source": [
    "#importing necessary packages for creating plotly dashboard\n",
    "#import click\n",
    "#import dash\n",
    "#from dash import dcc\n",
    "#from dash import html\n",
    "#Importing necessary packages for performing EDA and plotting graphs \n",
    "import pandas as pd\n",
    "import matplotlib.pyplot as plt\n",
    "import bqplot\n",
    "import numpy as np\n",
    "import plotly.express as px"
   ]
  },
  {
   "cell_type": "code",
   "execution_count": 3,
   "id": "dce0d39c",
   "metadata": {},
   "outputs": [],
   "source": [
    "#reading the csv files into a pandas dataframe\n",
    "df1=pd.read_csv(\"country_wise_latest.csv\")\n",
    "df2=pd.read_csv(\"full_grouped.csv\")\n",
    "df3=pd.read_csv(\"covid_19_clean_complete.csv\")\n",
    "#df4=pd.read_csv(\"usa_county_wise.csv\")"
   ]
  },
  {
   "cell_type": "code",
   "execution_count": 4,
   "id": "37414331",
   "metadata": {},
   "outputs": [
    {
     "ename": "NameError",
     "evalue": "name 'df4' is not defined",
     "output_type": "error",
     "traceback": [
      "\u001b[1;31m---------------------------------------------------------------------------\u001b[0m",
      "\u001b[1;31mNameError\u001b[0m                                 Traceback (most recent call last)",
      "Input \u001b[1;32mIn [4]\u001b[0m, in \u001b[0;36m<module>\u001b[1;34m\u001b[0m\n\u001b[0;32m      1\u001b[0m \u001b[38;5;66;03m#replacing NaN values\u001b[39;00m\n\u001b[0;32m      2\u001b[0m df3[\u001b[38;5;124m'\u001b[39m\u001b[38;5;124mProvince/State\u001b[39m\u001b[38;5;124m'\u001b[39m] \u001b[38;5;241m=\u001b[39m df3[\u001b[38;5;124m'\u001b[39m\u001b[38;5;124mProvince/State\u001b[39m\u001b[38;5;124m'\u001b[39m]\u001b[38;5;241m.\u001b[39mfillna(\u001b[38;5;124m'\u001b[39m\u001b[38;5;124mNA\u001b[39m\u001b[38;5;124m'\u001b[39m)\n\u001b[1;32m----> 3\u001b[0m df4[\u001b[38;5;124m'\u001b[39m\u001b[38;5;124mAdmin2\u001b[39m\u001b[38;5;124m'\u001b[39m] \u001b[38;5;241m=\u001b[39m \u001b[43mdf4\u001b[49m[\u001b[38;5;124m'\u001b[39m\u001b[38;5;124mAdmin2\u001b[39m\u001b[38;5;124m'\u001b[39m]\u001b[38;5;241m.\u001b[39mfillna(\u001b[38;5;124m'\u001b[39m\u001b[38;5;124mNA\u001b[39m\u001b[38;5;124m'\u001b[39m)\n",
      "\u001b[1;31mNameError\u001b[0m: name 'df4' is not defined"
     ]
    }
   ],
   "source": [
    "#replacing NaN values\n",
    "df3['Province/State'] = df3['Province/State'].fillna('NA')\n"
   ]
  },
  {
   "cell_type": "code",
   "execution_count": null,
   "id": "ba746977",
   "metadata": {},
   "outputs": [],
   "source": [
    "total_df=pd.concat([df1,df2,df3]) #combining all the data into a single dataframe"
   ]
  },
  {
   "cell_type": "code",
   "execution_count": null,
   "id": "df28fd5d",
   "metadata": {},
   "outputs": [],
   "source": [
    "total_df = total_df.sort_values('Confirmed', ascending=False)"
   ]
  },
  {
   "cell_type": "code",
   "execution_count": null,
   "id": "c5b79201",
   "metadata": {},
   "outputs": [],
   "source": [
    "df=total_df.groupby(['Country/Region', 'WHO Region'])['Confirmed'].mean() #Giving an index and grouping the data\n",
    "df=df.unstack(level=0).round(2)\n",
    "df"
   ]
  },
  {
   "cell_type": "markdown",
   "id": "0d42a640",
   "metadata": {},
   "source": [
    "# INTERACTIVE VISUALIZATIONS"
   ]
  },
  {
   "cell_type": "code",
   "execution_count": null,
   "id": "6560d291",
   "metadata": {},
   "outputs": [],
   "source": [
    "#first visualization\n",
    "graph1 = df2[['Date', 'New cases', 'New deaths']]\n",
    "graph1 = graph1.melt(id_vars='Date', value_vars=['New cases', 'New deaths'], \n",
    "                 var_name='Variable', value_name='Count')\n",
    "px.line(graph1, x='Date', y='Count', color='Variable', title='New covid cases and deaths per month')"
   ]
  },
  {
   "cell_type": "markdown",
   "id": "cfe82b4b",
   "metadata": {},
   "source": [
    "# CONTEXTUAL VISUALIZATIONS"
   ]
  },
  {
   "cell_type": "code",
   "execution_count": null,
   "id": "6e8b6f74",
   "metadata": {},
   "outputs": [],
   "source": [
    "df2_plot = pd.read_csv(\"full_grouped.csv\", parse_dates= ['Date'])\n",
    "df2_plot['WHO Region'].value_counts().plot(kind='pie')"
   ]
  },
  {
   "cell_type": "code",
   "execution_count": null,
   "id": "ea4f075f",
   "metadata": {},
   "outputs": [],
   "source": [
    "x = df2.index\n",
    "y = df2['Recovered']\n",
    "z = df2['New recovered']\n",
    "fig, ax = plt.subplots(figsize = (15,5))\n",
    "ax.plot(x,y,z ,linewidth = 1.5)\n",
    "ax.legend(['Recovered','New Recovered'])\n",
    "ax.set(title = \"COVID - 19 Cases from 2020-01-22 to 2020-07-27\", xlabel = \"Date\", ylabel = \"Number of COVID -19 Cases\")\n"
   ]
  },
  {
   "cell_type": "markdown",
   "id": "dfd108f5",
   "metadata": {},
   "source": [
    "The code for creating plotly dashboard ran without any error but the dashboard is not reflecting on the url mentioned \n",
    "in the output. It either takes too long to load or shows an error that the page cannot be reached. \n",
    "Code reference for plotly dashboard : https://www.askpython.com/python-modules/plotly-dash-dashboard"
   ]
  }
 ],
 "metadata": {
  "kernelspec": {
   "display_name": "Python 3 (ipykernel)",
   "language": "python",
   "name": "python3"
  },
  "language_info": {
   "codemirror_mode": {
    "name": "ipython",
    "version": 3
   },
   "file_extension": ".py",
   "mimetype": "text/x-python",
   "name": "python",
   "nbconvert_exporter": "python",
   "pygments_lexer": "ipython3",
   "version": "3.8.12"
  }
 },
 "nbformat": 4,
 "nbformat_minor": 5
}
